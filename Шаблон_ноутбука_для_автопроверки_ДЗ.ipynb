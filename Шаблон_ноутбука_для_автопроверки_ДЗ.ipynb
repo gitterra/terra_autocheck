{
  "nbformat": 4,
  "nbformat_minor": 0,
  "metadata": {
    "colab": {
      "name": "Шаблон ноутбука для автопроверки ДЗ",
      "provenance": [],
      "collapsed_sections": []
    },
    "kernelspec": {
      "display_name": "Python 3",
      "name": "python3"
    }
  },
  "cells": [
    {
      "cell_type": "markdown",
      "metadata": {
        "id": "S2aCI7mtCXaa"
      },
      "source": [
        "#Домашнее задание"
      ]
    },
    {
      "cell_type": "code",
      "metadata": {
        "id": "nOiwweHDakhq"
      },
      "source": [
        ""
      ],
      "execution_count": null,
      "outputs": []
    },
    {
      "cell_type": "markdown",
      "metadata": {
        "id": "v0fmk_WSGgqY"
      },
      "source": [
        "Здесь необходимо разместить текст ДЗ с решением"
      ]
    },
    {
      "cell_type": "markdown",
      "metadata": {
        "id": "Hkc-ofI72Fgo"
      },
      "source": [
        "# **Проверка ДЗ**"
      ]
    },
    {
      "cell_type": "markdown",
      "metadata": {
        "id": "XWY8LqPVGm5g"
      },
      "source": [
        "1. В ячейке ниже необходимо заменить `from terra_autocheck.baseblock.lessonone import light` на модуль Вашего ДЗ. Например для уровня ПРО занятия \"Введение в НС\", подключение библиотеки будет выглядеть следующим образом:\n",
        "\n",
        "        from terra_autocheck.baseblock.lessonthree import pro\n",
        "\n"
      ]
    },
    {
      "cell_type": "markdown",
      "metadata": {
        "id": "U8v3w5UlIPJG"
      },
      "source": [
        "2. Вызвать функцию автопроверки:\n",
        "\n",
        "        Autocheck.Start(1739, globals())\n",
        "\n",
        "1739 - это ID вашего ДЗ. Необходимо заменить на ID вашей домашки (можно найти в скрипте репозитория вашего ДЗ)"
      ]
    },
    {
      "cell_type": "code",
      "metadata": {
        "id": "dNRI9PunKDQO"
      },
      "source": [
        "#@title Запустите ячейку для начала проверки <br> <h6>\n",
        "!rm -rf terra_autocheck\n",
        "!git clone -q https://github.com/gitterra/terra_autocheck.git\n",
        "from terra_autocheck import Autocheck\n",
        "from terra_autocheck.baseblock.lessonone import light\n",
        "\n",
        "Autocheck.Start(1739, globals())"
      ],
      "execution_count": null,
      "outputs": []
    }
  ]
}